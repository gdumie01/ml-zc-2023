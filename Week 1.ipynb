{
 "cells": [
  {
   "cell_type": "markdown",
   "id": "566bbde6",
   "metadata": {},
   "source": [
    "<h4> Q1"
   ]
  },
  {
   "cell_type": "code",
   "execution_count": 1,
   "id": "3c00eca8",
   "metadata": {},
   "outputs": [],
   "source": [
    "import pandas as pd"
   ]
  },
  {
   "cell_type": "code",
   "execution_count": 2,
   "id": "2e951248",
   "metadata": {},
   "outputs": [
    {
     "data": {
      "text/plain": [
       "'1.4.4'"
      ]
     },
     "execution_count": 2,
     "metadata": {},
     "output_type": "execute_result"
    }
   ],
   "source": [
    "pd.__version__"
   ]
  },
  {
   "cell_type": "markdown",
   "id": "4f3f4cd2",
   "metadata": {},
   "source": [
    "<h4> Q2 & Q3"
   ]
  },
  {
   "cell_type": "code",
   "execution_count": 4,
   "id": "21129321",
   "metadata": {},
   "outputs": [],
   "source": [
    "housing = pd.read_csv(r'C:\\Users\\smesmgmt009\\Downloads\\datasets_master_housing.csv')"
   ]
  },
  {
   "cell_type": "code",
   "execution_count": 7,
   "id": "8ace34a2",
   "metadata": {},
   "outputs": [
    {
     "name": "stdout",
     "output_type": "stream",
     "text": [
      "<class 'pandas.core.frame.DataFrame'>\n",
      "RangeIndex: 20640 entries, 0 to 20639\n",
      "Data columns (total 10 columns):\n",
      " #   Column              Non-Null Count  Dtype  \n",
      "---  ------              --------------  -----  \n",
      " 0   longitude           20640 non-null  float64\n",
      " 1   latitude            20640 non-null  float64\n",
      " 2   housing_median_age  20640 non-null  float64\n",
      " 3   total_rooms         20640 non-null  float64\n",
      " 4   total_bedrooms      20433 non-null  float64\n",
      " 5   population          20640 non-null  float64\n",
      " 6   households          20640 non-null  float64\n",
      " 7   median_income       20640 non-null  float64\n",
      " 8   median_house_value  20640 non-null  float64\n",
      " 9   ocean_proximity     20640 non-null  object \n",
      "dtypes: float64(9), object(1)\n",
      "memory usage: 1.6+ MB\n"
     ]
    }
   ],
   "source": [
    "housing.info()"
   ]
  },
  {
   "cell_type": "markdown",
   "id": "5a2ec715",
   "metadata": {},
   "source": [
    "<h4> Q4"
   ]
  },
  {
   "cell_type": "code",
   "execution_count": 8,
   "id": "bacc8a50",
   "metadata": {},
   "outputs": [
    {
     "data": {
      "text/plain": [
       "5"
      ]
     },
     "execution_count": 8,
     "metadata": {},
     "output_type": "execute_result"
    }
   ],
   "source": [
    "housing['ocean_proximity'].nunique()"
   ]
  },
  {
   "cell_type": "markdown",
   "id": "4152416b",
   "metadata": {},
   "source": [
    "<h4> Q5"
   ]
  },
  {
   "cell_type": "code",
   "execution_count": 14,
   "id": "62df93a9",
   "metadata": {},
   "outputs": [
    {
     "data": {
      "text/html": [
       "<div>\n",
       "<style scoped>\n",
       "    .dataframe tbody tr th:only-of-type {\n",
       "        vertical-align: middle;\n",
       "    }\n",
       "\n",
       "    .dataframe tbody tr th {\n",
       "        vertical-align: top;\n",
       "    }\n",
       "\n",
       "    .dataframe thead th {\n",
       "        text-align: right;\n",
       "    }\n",
       "</style>\n",
       "<table border=\"1\" class=\"dataframe\">\n",
       "  <thead>\n",
       "    <tr style=\"text-align: right;\">\n",
       "      <th></th>\n",
       "      <th>median_house_value</th>\n",
       "    </tr>\n",
       "    <tr>\n",
       "      <th>ocean_proximity</th>\n",
       "      <th></th>\n",
       "    </tr>\n",
       "  </thead>\n",
       "  <tbody>\n",
       "    <tr>\n",
       "      <th>&lt;1H OCEAN</th>\n",
       "      <td>240084.285464</td>\n",
       "    </tr>\n",
       "    <tr>\n",
       "      <th>INLAND</th>\n",
       "      <td>124805.392001</td>\n",
       "    </tr>\n",
       "    <tr>\n",
       "      <th>ISLAND</th>\n",
       "      <td>380440.000000</td>\n",
       "    </tr>\n",
       "    <tr>\n",
       "      <th>NEAR BAY</th>\n",
       "      <td>259212.311790</td>\n",
       "    </tr>\n",
       "    <tr>\n",
       "      <th>NEAR OCEAN</th>\n",
       "      <td>249433.977427</td>\n",
       "    </tr>\n",
       "  </tbody>\n",
       "</table>\n",
       "</div>"
      ],
      "text/plain": [
       "                 median_house_value\n",
       "ocean_proximity                    \n",
       "<1H OCEAN             240084.285464\n",
       "INLAND                124805.392001\n",
       "ISLAND                380440.000000\n",
       "NEAR BAY              259212.311790\n",
       "NEAR OCEAN            249433.977427"
      ]
     },
     "execution_count": 14,
     "metadata": {},
     "output_type": "execute_result"
    }
   ],
   "source": [
    "pd.pivot_table(housing, values = 'median_house_value', index = 'ocean_proximity', aggfunc=\"mean\")"
   ]
  },
  {
   "cell_type": "markdown",
   "id": "89b3a1e6",
   "metadata": {},
   "source": [
    "<h4> Q6"
   ]
  },
  {
   "cell_type": "code",
   "execution_count": 15,
   "id": "72618959",
   "metadata": {},
   "outputs": [
    {
     "data": {
      "text/plain": [
       "537.8705525375618"
      ]
     },
     "execution_count": 15,
     "metadata": {},
     "output_type": "execute_result"
    }
   ],
   "source": [
    "housing['total_bedrooms'].mean()"
   ]
  },
  {
   "cell_type": "code",
   "execution_count": 17,
   "id": "f33d3b08",
   "metadata": {},
   "outputs": [
    {
     "data": {
      "text/plain": [
       "537.8705525375639"
      ]
     },
     "execution_count": 17,
     "metadata": {},
     "output_type": "execute_result"
    }
   ],
   "source": [
    "housing['total_bedrooms'].fillna(537.8705525375618).mean()"
   ]
  },
  {
   "cell_type": "markdown",
   "id": "3f044de7",
   "metadata": {},
   "source": [
    "<h4> Q7"
   ]
  },
  {
   "cell_type": "code",
   "execution_count": 62,
   "id": "01d73a75",
   "metadata": {},
   "outputs": [],
   "source": [
    "df = housing[housing['ocean_proximity'] == 'ISLAND'][['housing_median_age', 'total_rooms','total_bedrooms']]"
   ]
  },
  {
   "cell_type": "code",
   "execution_count": 63,
   "id": "d2eae2f3",
   "metadata": {},
   "outputs": [],
   "source": [
    "X = df.values"
   ]
  },
  {
   "cell_type": "code",
   "execution_count": 72,
   "id": "8c225b02",
   "metadata": {},
   "outputs": [],
   "source": [
    "XTX = X.T.dot(X)"
   ]
  },
  {
   "cell_type": "code",
   "execution_count": 73,
   "id": "192551d1",
   "metadata": {},
   "outputs": [],
   "source": [
    "XTXinv = np.linalg.inv(XTX)"
   ]
  },
  {
   "cell_type": "code",
   "execution_count": 66,
   "id": "676a148d",
   "metadata": {},
   "outputs": [],
   "source": [
    "y = np.array([950,1300,800,1000,1300])"
   ]
  },
  {
   "cell_type": "code",
   "execution_count": 78,
   "id": "703fc878",
   "metadata": {},
   "outputs": [],
   "source": [
    "XTXinvXT = XTXinv.dot(X.T)"
   ]
  },
  {
   "cell_type": "code",
   "execution_count": 79,
   "id": "8b813a58",
   "metadata": {},
   "outputs": [],
   "source": [
    "w = XTXinvXT.dot(y)"
   ]
  },
  {
   "cell_type": "code",
   "execution_count": 80,
   "id": "561bb22f",
   "metadata": {},
   "outputs": [
    {
     "data": {
      "text/plain": [
       "array([23.12330961, -1.48124183,  5.69922946])"
      ]
     },
     "execution_count": 80,
     "metadata": {},
     "output_type": "execute_result"
    }
   ],
   "source": [
    "w"
   ]
  },
  {
   "cell_type": "code",
   "execution_count": null,
   "id": "3be4c40f",
   "metadata": {},
   "outputs": [],
   "source": []
  }
 ],
 "metadata": {
  "kernelspec": {
   "display_name": "Python 3 (ipykernel)",
   "language": "python",
   "name": "python3"
  },
  "language_info": {
   "codemirror_mode": {
    "name": "ipython",
    "version": 3
   },
   "file_extension": ".py",
   "mimetype": "text/x-python",
   "name": "python",
   "nbconvert_exporter": "python",
   "pygments_lexer": "ipython3",
   "version": "3.9.13"
  }
 },
 "nbformat": 4,
 "nbformat_minor": 5
}
