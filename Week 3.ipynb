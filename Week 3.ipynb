{
 "cells": [
  {
   "cell_type": "code",
   "execution_count": 49,
   "id": "2613e0f3",
   "metadata": {},
   "outputs": [],
   "source": [
    "import pandas as pd\n",
    "import numpy as np\n",
    "import wget\n",
    "from sklearn.model_selection import train_test_split\n",
    "from sklearn.metrics import mutual_info_score\n",
    "from sklearn.feature_extraction import DictVectorizer\n",
    "from sklearn.linear_model import LogisticRegression\n",
    "from sklearn.linear_model import Ridge\n",
    "from sklearn.metrics import mean_squared_error"
   ]
  },
  {
   "cell_type": "code",
   "execution_count": 2,
   "id": "a3e0090b",
   "metadata": {},
   "outputs": [],
   "source": [
    "data_url = 'https://raw.githubusercontent.com/alexeygrigorev/mlbookcamp-code/master/chapter-02-car-price/data.csv'\n",
    "filename = wget.download(data_url)"
   ]
  },
  {
   "cell_type": "code",
   "execution_count": 3,
   "id": "dbae6762",
   "metadata": {},
   "outputs": [],
   "source": [
    "data_full = pd.read_csv('data.csv')"
   ]
  },
  {
   "cell_type": "markdown",
   "id": "e8dff989",
   "metadata": {},
   "source": [
    "## Data Preparation"
   ]
  },
  {
   "cell_type": "code",
   "execution_count": 4,
   "id": "2ef2c3ae",
   "metadata": {},
   "outputs": [],
   "source": [
    "data = data_full[['Make','Model','Year','Engine HP','Engine Cylinders','Transmission Type',\n",
    "   'Vehicle Style','highway MPG','city mpg','MSRP']]"
   ]
  },
  {
   "cell_type": "code",
   "execution_count": 5,
   "id": "4127761e",
   "metadata": {},
   "outputs": [
    {
     "data": {
      "text/plain": [
       "make                  0\n",
       "model                 0\n",
       "year                  0\n",
       "engine_hp            69\n",
       "engine_cylinders     30\n",
       "transmission_type     0\n",
       "vehicle_style         0\n",
       "highway_mpg           0\n",
       "city_mpg              0\n",
       "msrp                  0\n",
       "dtype: int64"
      ]
     },
     "execution_count": 5,
     "metadata": {},
     "output_type": "execute_result"
    }
   ],
   "source": [
    "data.columns = data.columns.str.replace(' ', '_').str.lower()\n",
    "data.isnull().sum()"
   ]
  },
  {
   "cell_type": "code",
   "execution_count": 6,
   "id": "576e1c41",
   "metadata": {},
   "outputs": [],
   "source": [
    "df = data.copy()\n",
    "df['engine_hp'] = df['engine_hp'].fillna(0)\n",
    "df['engine_cylinders'] = df['engine_cylinders'].fillna(0)\n",
    "df = df.rename(columns={\"msrp\": \"price\"})"
   ]
  },
  {
   "cell_type": "markdown",
   "id": "eebf6576",
   "metadata": {},
   "source": [
    "## Q1"
   ]
  },
  {
   "cell_type": "code",
   "execution_count": 7,
   "id": "fdd26f6c",
   "metadata": {},
   "outputs": [
    {
     "data": {
      "text/plain": [
       "AUTOMATIC           8266\n",
       "MANUAL              2935\n",
       "AUTOMATED_MANUAL     626\n",
       "DIRECT_DRIVE          68\n",
       "UNKNOWN               19\n",
       "Name: transmission_type, dtype: int64"
      ]
     },
     "execution_count": 7,
     "metadata": {},
     "output_type": "execute_result"
    }
   ],
   "source": [
    "df.transmission_type.value_counts()"
   ]
  },
  {
   "cell_type": "markdown",
   "id": "750b5be6",
   "metadata": {},
   "source": [
    "## Q2"
   ]
  },
  {
   "cell_type": "code",
   "execution_count": 8,
   "id": "333f8f8e",
   "metadata": {},
   "outputs": [
    {
     "name": "stdout",
     "output_type": "stream",
     "text": [
      "Pair: highway_mpg - city_mpg, Correlation: 0.89\n",
      "Pair: city_mpg - highway_mpg, Correlation: 0.89\n",
      "Pair: engine_hp - engine_cylinders, Correlation: 0.77\n",
      "Pair: engine_cylinders - engine_hp, Correlation: 0.77\n",
      "Pair: engine_hp - price, Correlation: 0.65\n"
     ]
    }
   ],
   "source": [
    "corr_matrix = df.corr().round(2)\n",
    "\n",
    "correlation_pairs = []\n",
    "\n",
    "# Iterate over the columns in the correlation matrix\n",
    "for col1 in corr_matrix.columns:\n",
    "    for col2 in corr_matrix.columns:\n",
    "        if col1 != col2:  # Exclude self-correlations\n",
    "            correlation = corr_matrix.loc[col1, col2]\n",
    "            correlation_pairs.append((col1, col2, correlation))\n",
    "\n",
    "# Sort the list of correlation pairs by absolute correlation value in descending order\n",
    "correlation_pairs.sort(key=lambda x: abs(x[2]), reverse=True)\n",
    "\n",
    "# Extract the top 5 pairs with the highest correlation\n",
    "top_5_correlations = correlation_pairs[:5]\n",
    "\n",
    "# Print the top 5 pairs and their correlations\n",
    "for pair in top_5_correlations:\n",
    "    print(f\"Pair: {pair[0]} - {pair[1]}, Correlation: {pair[2]}\")"
   ]
  },
  {
   "cell_type": "markdown",
   "id": "81f6194f",
   "metadata": {},
   "source": [
    "## Q3"
   ]
  },
  {
   "cell_type": "code",
   "execution_count": 9,
   "id": "99b24b45",
   "metadata": {},
   "outputs": [],
   "source": [
    "avg_price = df['price'].mean()\n",
    "df['above_average'] = (df['price'] > avg_price).astype(int)"
   ]
  },
  {
   "cell_type": "code",
   "execution_count": 10,
   "id": "fb7194c0",
   "metadata": {},
   "outputs": [],
   "source": [
    "df_train_full, df_test = train_test_split(df, test_size=0.2, random_state=42)\n",
    "df_train, df_val = train_test_split(df_train_full, test_size=0.25, random_state=42)\n",
    "y_train = df_train.above_average.values\n",
    "y_val = df_val.above_average.values\n",
    "y_test = df_test.above_average.values\n",
    "del df_train['above_average']\n",
    "del df_train['price']\n",
    "del df_val['above_average']\n",
    "del df_val['price']\n",
    "del df_test['above_average']\n",
    "del df_test['price']"
   ]
  },
  {
   "cell_type": "code",
   "execution_count": 11,
   "id": "5cb98ae6",
   "metadata": {},
   "outputs": [
    {
     "data": {
      "text/plain": [
       "(11914, 7148, 2383, 2383)"
      ]
     },
     "execution_count": 11,
     "metadata": {},
     "output_type": "execute_result"
    }
   ],
   "source": [
    "len(df), len(df_train), len(df_val), len(df_test)"
   ]
  },
  {
   "cell_type": "code",
   "execution_count": 12,
   "id": "d18fe30b",
   "metadata": {},
   "outputs": [],
   "source": [
    "categorical = ['make','model','transmission_type','vehicle_style']"
   ]
  },
  {
   "cell_type": "code",
   "execution_count": 13,
   "id": "d502320d",
   "metadata": {},
   "outputs": [
    {
     "data": {
      "text/plain": [
       "model                0.46\n",
       "make                 0.24\n",
       "vehicle_style        0.08\n",
       "transmission_type    0.02\n",
       "dtype: float64"
      ]
     },
     "execution_count": 13,
     "metadata": {},
     "output_type": "execute_result"
    }
   ],
   "source": [
    "def calculate_mi(series):\n",
    "    return mutual_info_score(series, y_train)\n",
    "\n",
    "round(df_train[categorical].apply(calculate_mi).sort_values(ascending=False),2)"
   ]
  },
  {
   "cell_type": "markdown",
   "id": "8e99c24c",
   "metadata": {},
   "source": [
    "## Q4"
   ]
  },
  {
   "cell_type": "code",
   "execution_count": 14,
   "id": "eb1d0aa0",
   "metadata": {},
   "outputs": [
    {
     "data": {
      "text/plain": [
       "LogisticRegression(C=10, max_iter=1000, random_state=42, solver='liblinear')"
      ]
     },
     "execution_count": 14,
     "metadata": {},
     "output_type": "execute_result"
    }
   ],
   "source": [
    "train_dict = df_train.to_dict(orient='records')\n",
    "dv = DictVectorizer(sparse=False)\n",
    "dv.fit(train_dict)\n",
    "X_train = dv.transform(train_dict)\n",
    "X_train.shape\n",
    "model = LogisticRegression(solver='liblinear', C=10, max_iter=1000, random_state=42)\n",
    "model.fit(X_train, y_train)"
   ]
  },
  {
   "cell_type": "code",
   "execution_count": 15,
   "id": "951871c1",
   "metadata": {},
   "outputs": [
    {
     "data": {
      "text/plain": [
       "array([[9.99692966e-01, 3.07033780e-04],\n",
       "       [2.27974745e-03, 9.97720253e-01],\n",
       "       [9.99930206e-01, 6.97938861e-05],\n",
       "       ...,\n",
       "       [9.99898957e-01, 1.01043039e-04],\n",
       "       [8.98629570e-03, 9.91013704e-01],\n",
       "       [9.08719100e-03, 9.90912809e-01]])"
      ]
     },
     "execution_count": 15,
     "metadata": {},
     "output_type": "execute_result"
    }
   ],
   "source": [
    "val_dict = df_val.to_dict(orient='records')\n",
    "X_val = dv.transform(val_dict)\n",
    "model.predict_proba(X_val)"
   ]
  },
  {
   "cell_type": "code",
   "execution_count": 16,
   "id": "97481ae8",
   "metadata": {},
   "outputs": [],
   "source": [
    "y_pred = model.predict_proba(X_val)[:, 1]"
   ]
  },
  {
   "cell_type": "code",
   "execution_count": 32,
   "id": "8b9f7020",
   "metadata": {},
   "outputs": [
    {
     "data": {
      "text/plain": [
       "0.946286193873269"
      ]
     },
     "execution_count": 32,
     "metadata": {},
     "output_type": "execute_result"
    }
   ],
   "source": [
    "above_avg = y_pred > 0.5\n",
    "baseline_acc = (y_val == above_avg).mean()\n",
    "baseline_acc"
   ]
  },
  {
   "cell_type": "markdown",
   "id": "7b238035",
   "metadata": {},
   "source": [
    "## Q5"
   ]
  },
  {
   "cell_type": "code",
   "execution_count": 33,
   "id": "4d8f6765",
   "metadata": {},
   "outputs": [
    {
     "name": "stdout",
     "output_type": "stream",
     "text": [
      "Without feature 'make' accuracy is 0.95 yielding a delta of 0.002937473772555599 from baseline\n",
      "Without feature 'model' accuracy is 0.92 yielding a delta of -0.022240872849349502 from baseline\n",
      "Without feature 'year' accuracy is 0.95 yielding a delta of 0.0016785564414604215 from baseline\n",
      "Without feature 'engine_hp' accuracy is 0.93 yielding a delta of -0.015946286193873282 from baseline\n",
      "Without feature 'engine_cylinders' accuracy is 0.95 yielding a delta of 0.0008392782207301552 from baseline\n",
      "Without feature 'transmission_type' accuracy is 0.95 yielding a delta of -0.0012589173310951773 from baseline\n",
      "Without feature 'vehicle_style' accuracy is 0.94 yielding a delta of -0.003776751993285754 from baseline\n",
      "Without feature 'highway_mpg' accuracy is 0.94 yielding a delta of -0.0020981955518254436 from baseline\n",
      "Without feature 'city_mpg' accuracy is 0.95 yielding a delta of -0.0004196391103650221 from baseline\n"
     ]
    }
   ],
   "source": [
    "for feature in df_train.columns:\n",
    "    temp_df_train = df_train.copy()\n",
    "    temp_df_val = df_val.copy()\n",
    "    \n",
    "    temp_df_train = temp_df_train.drop(columns=[feature])\n",
    "    temp_df_val = temp_df_val.drop(columns=[feature])\n",
    "    \n",
    "    temp_train_dict = temp_df_train.to_dict(orient='records')\n",
    "    temp_val_dict = temp_df_val.to_dict(orient='records')\n",
    "    \n",
    "    temp_dv = DictVectorizer(sparse=False)\n",
    "    temp_dv.fit(temp_train_dict)\n",
    "    \n",
    "    temp_X_train = temp_dv.transform(temp_train_dict)\n",
    "    temp_X_val = temp_dv.transform(temp_val_dict)\n",
    "      \n",
    "    temp_model = LogisticRegression(solver='liblinear', C=10, max_iter=1000, random_state=42)\n",
    "    temp_model.fit(temp_X_train, y_train)\n",
    "\n",
    "    temp_y_pred = temp_model.predict_proba(temp_X_val)[:, 1]\n",
    "    temp_above_avg = temp_y_pred > 0.5\n",
    "    temp_acc = (y_val == temp_above_avg).mean()\n",
    "    print(\"Without feature \\'\" + feature + \"\\' accuracy is \"+ str(round(temp_acc,2)) + \" yielding a delta of \" + str(temp_acc - baseline_acc) + \" from baseline\")"
   ]
  },
  {
   "cell_type": "markdown",
   "id": "4b2dee65",
   "metadata": {},
   "source": [
    "## Q6"
   ]
  },
  {
   "cell_type": "code",
   "execution_count": 53,
   "id": "29e44ab5",
   "metadata": {},
   "outputs": [
    {
     "name": "stdout",
     "output_type": "stream",
     "text": [
      "For alpha: 0 RMSE is: 0.2417372235557587\n",
      "For alpha: 0.01 RMSE is: 0.24173734384990983\n",
      "For alpha: 0.1 RMSE is: 0.2417384264710566\n",
      "For alpha: 1 RMSE is: 0.241749251183706\n",
      "For alpha: 10 RMSE is: 0.24192618680843758\n"
     ]
    }
   ],
   "source": [
    "del df_test['above_average']\n",
    "df_train_full, df_test = train_test_split(df, test_size=0.2, random_state=42)\n",
    "df_train, df_val = train_test_split(df_train_full, test_size=0.25, random_state=42)\n",
    "\n",
    "y_train_orig = df_train.price.values\n",
    "y_val_orig = df_val.price.values\n",
    "y_test_orig = df_test.price.values\n",
    "\n",
    "y_train = np.log1p(df_train.price.values)\n",
    "y_val = np.log1p(df_val.price.values)\n",
    "y_test = np.log1p(df_test.price.values)\n",
    "del df_train['price']\n",
    "del df_val['price']\n",
    "del df_test['price']\n",
    "\n",
    "train_dict = df_train.to_dict(orient='records')\n",
    "val_dict = df_val.to_dict(orient='records')\n",
    "\n",
    "dv = DictVectorizer(sparse=False)\n",
    "dv.fit(train_dict)\n",
    "\n",
    "X_train = dv.transform(train_dict)\n",
    "X_val = dv.transform(val_dict)\n",
    "\n",
    "alphas = [0, 0.01, 0.1, 1, 10]\n",
    "\n",
    "for alpha in alphas:\n",
    "    model = Ridge(solver='sag', random_state=42, alpha=alpha)\n",
    "    model.fit(X_train, y_train)\n",
    "    y_pred = model.predict(X_val)\n",
    "    rmse = mean_squared_error(y_val, y_pred)\n",
    "    print(\"For alpha: \" + str(alpha) + \" RMSE is: \" + str(rmse))"
   ]
  }
 ],
 "metadata": {
  "kernelspec": {
   "display_name": "Python 3 (ipykernel)",
   "language": "python",
   "name": "python3"
  },
  "language_info": {
   "codemirror_mode": {
    "name": "ipython",
    "version": 3
   },
   "file_extension": ".py",
   "mimetype": "text/x-python",
   "name": "python",
   "nbconvert_exporter": "python",
   "pygments_lexer": "ipython3",
   "version": "3.9.13"
  }
 },
 "nbformat": 4,
 "nbformat_minor": 5
}
